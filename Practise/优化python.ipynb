{
 "cells": [
  {
   "cell_type": "code",
   "execution_count": 1,
   "metadata": {},
   "outputs": [],
   "source": [
    "import pandas as pd\n",
    "import numpy as np"
   ]
  },
  {
   "cell_type": "code",
   "execution_count": 2,
   "metadata": {},
   "outputs": [],
   "source": [
    "dt= pd.date_range(start='2020-01-01',end='2020-01-02',freq='1H')"
   ]
  },
  {
   "cell_type": "code",
   "execution_count": 3,
   "metadata": {},
   "outputs": [],
   "source": [
    "r_data = np.random.rand(len(dt))"
   ]
  },
  {
   "cell_type": "code",
   "execution_count": 4,
   "metadata": {},
   "outputs": [],
   "source": [
    "ss = pd.Series(data=r_data,index=dt)"
   ]
  },
  {
   "cell_type": "code",
   "execution_count": 5,
   "metadata": {},
   "outputs": [
    {
     "data": {
      "text/plain": [
       "2020-01-01 00:00:00    0.507089\n",
       "2020-01-01 01:00:00    0.680964\n",
       "2020-01-01 02:00:00    0.462224\n",
       "2020-01-01 03:00:00    0.229607\n",
       "2020-01-01 04:00:00    0.711784\n",
       "2020-01-01 05:00:00    0.278971\n",
       "2020-01-01 06:00:00    0.396163\n",
       "2020-01-01 07:00:00    0.575668\n",
       "2020-01-01 08:00:00    0.489303\n",
       "2020-01-01 09:00:00    0.000287\n",
       "2020-01-01 10:00:00    0.667445\n",
       "2020-01-01 11:00:00    0.457573\n",
       "2020-01-01 12:00:00    0.499507\n",
       "2020-01-01 13:00:00    0.002031\n",
       "2020-01-01 14:00:00    0.561541\n",
       "2020-01-01 15:00:00    0.727498\n",
       "2020-01-01 16:00:00    0.430604\n",
       "2020-01-01 17:00:00    0.873716\n",
       "2020-01-01 18:00:00    0.718908\n",
       "2020-01-01 19:00:00    0.269599\n",
       "2020-01-01 20:00:00    0.482831\n",
       "2020-01-01 21:00:00    0.656976\n",
       "2020-01-01 22:00:00    0.689400\n",
       "2020-01-01 23:00:00    0.515684\n",
       "2020-01-02 00:00:00    0.274084\n",
       "Freq: H, dtype: float64"
      ]
     },
     "execution_count": 5,
     "metadata": {},
     "output_type": "execute_result"
    }
   ],
   "source": [
    "ss"
   ]
  },
  {
   "cell_type": "code",
   "execution_count": 11,
   "metadata": {},
   "outputs": [],
   "source": [
    "df = pd.DataFrame(data=zip(dt,r_data),columns=['date_time','energy_kwh'])"
   ]
  },
  {
   "cell_type": "code",
   "execution_count": 12,
   "metadata": {},
   "outputs": [],
   "source": [
    "df1 = df.set_index('date_time', inplace=False)"
   ]
  },
  {
   "cell_type": "code",
   "execution_count": 13,
   "metadata": {},
   "outputs": [],
   "source": [
    "peak_hours  = df1.index.hour.isin(range(17,24))"
   ]
  },
  {
   "cell_type": "code",
   "execution_count": 14,
   "metadata": {},
   "outputs": [],
   "source": [
    "df1.loc[peak_hours, 'cost_cents'] = df1.loc[peak_hours, 'energy_kwh'] * 28"
   ]
  },
  {
   "cell_type": "code",
   "execution_count": 15,
   "metadata": {},
   "outputs": [],
   "source": [
    "def apply_tariff(kwh, hour):\n",
    "    \"\"\"计算每个小时的电费\"\"\"    \n",
    "    if 0 <= hour < 7:\n",
    "        rate = 12\n",
    "    elif 7 <= hour < 17:\n",
    "        rate = 20\n",
    "    elif 17 <= hour < 24:\n",
    "        rate = 28\n",
    "    else:\n",
    "        raise ValueError(f'Invalid hour: {hour}')\n",
    "    return rate * kwh"
   ]
  },
  {
   "cell_type": "code",
   "execution_count": 16,
   "metadata": {},
   "outputs": [],
   "source": [
    "# @timeit(repeat=3, number=100) \n",
    "def apply_tariff_loop(df):\n",
    "     \"\"\"用for循环计算enery cost，并添加到列表\"\"\"\n",
    "     energy_cost_list = []\n",
    "     for i in range(len(df)):\n",
    "         # 获取用电量和时间（小时）\n",
    "         energy_used = df.iloc[i]['energy_kwh']\n",
    "         hour = df.iloc[i]['date_time'].hour\n",
    "         energy_cost = apply_tariff(energy_used, hour)\n",
    "         energy_cost_list.append(energy_cost)\n",
    "     df['cost_cents'] = energy_cost_list"
   ]
  },
  {
   "cell_type": "code",
   "execution_count": 26,
   "metadata": {},
   "outputs": [
    {
     "name": "stdout",
     "output_type": "stream",
     "text": [
      "5.88 ms ± 264 µs per loop (mean ± std. dev. of 7 runs, 100 loops each)\n"
     ]
    }
   ],
   "source": [
    "%%timeit\n",
    "apply_tariff_loop(df)"
   ]
  },
  {
   "cell_type": "markdown",
   "metadata": {},
   "source": [
    "用 iterrows循环"
   ]
  },
  {
   "cell_type": "code",
   "execution_count": 30,
   "metadata": {},
   "outputs": [],
   "source": [
    "df.drop(axis=0,columns='cost_cents',inplace=True)"
   ]
  },
  {
   "cell_type": "code",
   "execution_count": 27,
   "metadata": {},
   "outputs": [],
   "source": [
    "def apply_tariff_iterrows(df):\n",
    "    energy_cost_list = []\n",
    "    for index, row in df.iterrows():\n",
    "        # 获取用电量和时间（小时）\n",
    "        energy_used = row['energy_kwh']\n",
    "        hour = row['date_time'].hour\n",
    "        # 添加cost列表\n",
    "        energy_cost = apply_tariff(energy_used, hour)\n",
    "        energy_cost_list.append(energy_cost)\n",
    "    df['cost_cents'] = energy_cost_list"
   ]
  },
  {
   "cell_type": "code",
   "execution_count": 31,
   "metadata": {},
   "outputs": [
    {
     "name": "stdout",
     "output_type": "stream",
     "text": [
      "2.01 ms ± 65.3 µs per loop (mean ± std. dev. of 7 runs, 1000 loops each)\n"
     ]
    }
   ],
   "source": [
    "%%timeit\n",
    "apply_tariff_iterrows(df)"
   ]
  },
  {
   "cell_type": "code",
   "execution_count": null,
   "metadata": {},
   "outputs": [],
   "source": []
  }
 ],
 "metadata": {
  "kernelspec": {
   "display_name": "Python 3",
   "language": "python",
   "name": "python3"
  },
  "language_info": {
   "codemirror_mode": {
    "name": "ipython",
    "version": 3
   },
   "file_extension": ".py",
   "mimetype": "text/x-python",
   "name": "python",
   "nbconvert_exporter": "python",
   "pygments_lexer": "ipython3",
   "version": "3.8.5"
  }
 },
 "nbformat": 4,
 "nbformat_minor": 2
}
